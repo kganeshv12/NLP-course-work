{
 "cells": [
  {
   "cell_type": "code",
   "execution_count": 1,
   "metadata": {
    "colab": {
     "base_uri": "https://localhost:8080/"
    },
    "executionInfo": {
     "elapsed": 192471,
     "status": "ok",
     "timestamp": 1710832340895,
     "user": {
      "displayName": "Ganeshkrishna B",
      "userId": "15710886125380977955"
     },
     "user_tz": -330
    },
    "id": "WLW62swGiXhS",
    "outputId": "2e55bc86-9ac9-4ca4-9aec-29d57226613f"
   },
   "outputs": [
    {
     "name": "stdout",
     "output_type": "stream",
     "text": [
      "Requirement already satisfied: numpy in /usr/local/lib/python3.10/dist-packages (1.25.2)\n",
      "Requirement already satisfied: matplotlib in /usr/local/lib/python3.10/dist-packages (3.7.1)\n",
      "Requirement already satisfied: gensim in /usr/local/lib/python3.10/dist-packages (4.3.2)\n",
      "Requirement already satisfied: contourpy>=1.0.1 in /usr/local/lib/python3.10/dist-packages (from matplotlib) (1.2.0)\n",
      "Requirement already satisfied: cycler>=0.10 in /usr/local/lib/python3.10/dist-packages (from matplotlib) (0.12.1)\n",
      "Requirement already satisfied: fonttools>=4.22.0 in /usr/local/lib/python3.10/dist-packages (from matplotlib) (4.49.0)\n",
      "Requirement already satisfied: kiwisolver>=1.0.1 in /usr/local/lib/python3.10/dist-packages (from matplotlib) (1.4.5)\n",
      "Requirement already satisfied: packaging>=20.0 in /usr/local/lib/python3.10/dist-packages (from matplotlib) (24.0)\n",
      "Requirement already satisfied: pillow>=6.2.0 in /usr/local/lib/python3.10/dist-packages (from matplotlib) (9.4.0)\n",
      "Requirement already satisfied: pyparsing>=2.3.1 in /usr/local/lib/python3.10/dist-packages (from matplotlib) (3.1.2)\n",
      "Requirement already satisfied: python-dateutil>=2.7 in /usr/local/lib/python3.10/dist-packages (from matplotlib) (2.8.2)\n",
      "Requirement already satisfied: scipy>=1.7.0 in /usr/local/lib/python3.10/dist-packages (from gensim) (1.11.4)\n",
      "Requirement already satisfied: smart-open>=1.8.1 in /usr/local/lib/python3.10/dist-packages (from gensim) (6.4.0)\n",
      "Requirement already satisfied: six>=1.5 in /usr/local/lib/python3.10/dist-packages (from python-dateutil>=2.7->matplotlib) (1.16.0)\n",
      "--2024-03-19 07:09:14--  http://nlp.stanford.edu/data/glove.6B.zip\n",
      "Resolving nlp.stanford.edu (nlp.stanford.edu)... 171.64.67.140\n",
      "Connecting to nlp.stanford.edu (nlp.stanford.edu)|171.64.67.140|:80... connected.\n",
      "HTTP request sent, awaiting response... 302 Found\n",
      "Location: https://nlp.stanford.edu/data/glove.6B.zip [following]\n",
      "--2024-03-19 07:09:14--  https://nlp.stanford.edu/data/glove.6B.zip\n",
      "Connecting to nlp.stanford.edu (nlp.stanford.edu)|171.64.67.140|:443... connected.\n",
      "HTTP request sent, awaiting response... 301 Moved Permanently\n",
      "Location: https://downloads.cs.stanford.edu/nlp/data/glove.6B.zip [following]\n",
      "--2024-03-19 07:09:15--  https://downloads.cs.stanford.edu/nlp/data/glove.6B.zip\n",
      "Resolving downloads.cs.stanford.edu (downloads.cs.stanford.edu)... 171.64.64.22\n",
      "Connecting to downloads.cs.stanford.edu (downloads.cs.stanford.edu)|171.64.64.22|:443... connected.\n",
      "HTTP request sent, awaiting response... 200 OK\n",
      "Length: 862182613 (822M) [application/zip]\n",
      "Saving to: ‘glove.6B.zip’\n",
      "\n",
      "glove.6B.zip        100%[===================>] 822.24M  5.05MB/s    in 2m 41s  \n",
      "\n",
      "2024-03-19 07:11:56 (5.12 MB/s) - ‘glove.6B.zip’ saved [862182613/862182613]\n",
      "\n",
      "Archive:  glove.6B.zip\n",
      "  inflating: glove.6B.50d.txt        \n",
      "  inflating: glove.6B.100d.txt       \n",
      "  inflating: glove.6B.200d.txt       \n",
      "  inflating: glove.6B.300d.txt       \n"
     ]
    }
   ],
   "source": [
    "!pip install numpy matplotlib gensim\n",
    "!wget http://nlp.stanford.edu/data/glove.6B.zip\n",
    "!unzip glove.6B.zip"
   ]
  },
  {
   "cell_type": "code",
   "execution_count": 4,
   "metadata": {
    "executionInfo": {
     "elapsed": 401,
     "status": "ok",
     "timestamp": 1710832541174,
     "user": {
      "displayName": "Ganeshkrishna B",
      "userId": "15710886125380977955"
     },
     "user_tz": -330
    },
    "id": "qcPp7l0Xis-q"
   },
   "outputs": [],
   "source": [
    "from gensim.scripts.glove2word2vec import glove2word2vec\n",
    "from gensim.models import KeyedVectors"
   ]
  },
  {
   "cell_type": "code",
   "execution_count": 5,
   "metadata": {
    "colab": {
     "base_uri": "https://localhost:8080/"
    },
    "executionInfo": {
     "elapsed": 38218,
     "status": "ok",
     "timestamp": 1710832589160,
     "user": {
      "displayName": "Ganeshkrishna B",
      "userId": "15710886125380977955"
     },
     "user_tz": -330
    },
    "id": "ZLcXftPojaMn",
    "outputId": "2541a64e-fa4b-4aa8-e77b-eaf03d54bc14"
   },
   "outputs": [
    {
     "name": "stderr",
     "output_type": "stream",
     "text": [
      "<ipython-input-5-b07c0618d68b>:3: DeprecationWarning: Call to deprecated `glove2word2vec` (KeyedVectors.load_word2vec_format(.., binary=False, no_header=True) loads GLoVE text vectors.).\n",
      "  glove2word2vec(glove_input_file,word2vec_output_file)\n"
     ]
    }
   ],
   "source": [
    "glove_input_file='glove.6B.50d.txt'\n",
    "word2vec_output_file='glove.6B.50d.word2vec'\n",
    "glove2word2vec(glove_input_file,word2vec_output_file)\n",
    "\n",
    "model=KeyedVectors.load_word2vec_format(word2vec_output_file,binary=False)"
   ]
  },
  {
   "cell_type": "code",
   "execution_count": 9,
   "metadata": {
    "colab": {
     "base_uri": "https://localhost:8080/"
    },
    "executionInfo": {
     "elapsed": 5,
     "status": "ok",
     "timestamp": 1710832731590,
     "user": {
      "displayName": "Ganeshkrishna B",
      "userId": "15710886125380977955"
     },
     "user_tz": -330
    },
    "id": "o26rjBKFkXcy",
    "outputId": "971d5389-a9a9-489e-f038-800bf98c6fdf"
   },
   "outputs": [
    {
     "name": "stdout",
     "output_type": "stream",
     "text": [
      "[('king', 0.8612024784088135), ('prince', 0.8110411167144775), ('crown', 0.7789078950881958), ('royal', 0.7496289610862732), ('knight', 0.7449893951416016)]\n"
     ]
    }
   ],
   "source": [
    "print(model.most_similar(positive=['man','queen'], negative=['woman'], topn=5))"
   ]
  },
  {
   "cell_type": "code",
   "execution_count": 13,
   "metadata": {
    "colab": {
     "base_uri": "https://localhost:8080/"
    },
    "executionInfo": {
     "elapsed": 383,
     "status": "ok",
     "timestamp": 1710832813970,
     "user": {
      "displayName": "Ganeshkrishna B",
      "userId": "15710886125380977955"
     },
     "user_tz": -330
    },
    "id": "0JSaevyckq_G",
    "outputId": "4d9bc01b-2a97-4f65-86eb-1c09e30d8ce3"
   },
   "outputs": [
    {
     "name": "stdout",
     "output_type": "stream",
     "text": [
      "[('football', 0.8695788383483887), ('soccer', 0.8251979947090149), ('club', 0.8047658801078796), ('team', 0.7867863178253174), ('league', 0.7853158712387085)]\n"
     ]
    }
   ],
   "source": [
    "print(model.most_similar(positive=['cricket','player'], negative=['bowler'], topn=5))"
   ]
  },
  {
   "cell_type": "code",
   "execution_count": 37,
   "metadata": {
    "colab": {
     "base_uri": "https://localhost:8080/"
    },
    "executionInfo": {
     "elapsed": 364,
     "status": "ok",
     "timestamp": 1710833392818,
     "user": {
      "displayName": "Ganeshkrishna B",
      "userId": "15710886125380977955"
     },
     "user_tz": -330
    },
    "id": "61zPAU_ElTqU",
    "outputId": "a7d9d91a-db25-43bf-ea3a-abc2e9ededcf"
   },
   "outputs": [
    {
     "name": "stdout",
     "output_type": "stream",
     "text": [
      "[('mahatma', 0.8813636898994446), ('indira', 0.8513151407241821), ('nehru', 0.7741664052009583), ('rajiv', 0.7726855278015137), ('jawaharlal', 0.7673238515853882)]\n"
     ]
    }
   ],
   "source": [
    "print(model.most_similar('gandhi', topn=5))"
   ]
  },
  {
   "cell_type": "code",
   "execution_count": 33,
   "metadata": {
    "executionInfo": {
     "elapsed": 365,
     "status": "ok",
     "timestamp": 1710833327135,
     "user": {
      "displayName": "Ganeshkrishna B",
      "userId": "15710886125380977955"
     },
     "user_tz": -330
    },
    "id": "FmGNtMD8ljgO"
   },
   "outputs": [],
   "source": [
    "import numpy as np\n",
    "words=['king','queen','man','woman','paris','berlin','france','germany']\n",
    "word_vectors=np.array([model[w] for w in words])\n"
   ]
  },
  {
   "cell_type": "code",
   "execution_count": 34,
   "metadata": {
    "colab": {
     "base_uri": "https://localhost:8080/",
     "height": 430
    },
    "executionInfo": {
     "elapsed": 437,
     "status": "ok",
     "timestamp": 1710833329496,
     "user": {
      "displayName": "Ganeshkrishna B",
      "userId": "15710886125380977955"
     },
     "user_tz": -330
    },
    "id": "br7svvMdmYJT",
    "outputId": "1bf491c8-9bf5-48dc-ee25-ce5e6e57c0e2"
   },
   "outputs": [
    {
     "data": {
      "image/png": "[encoded data removed]",
      "text/plain": [
       "<Figure size 640x480 with 1 Axes>"
      ]
     },
     "metadata": {},
     "output_type": "display_data"
    }
   ],
   "source": [
    "from sklearn.decomposition import PCA\n",
    "import matplotlib.pyplot as plt\n",
    "\n",
    "pca=PCA(n_components=2)\n",
    "result=pca.fit_transform(word_vectors)\n",
    "\n",
    "plt.scatter(result[:,0],result[:,1])\n",
    "for i,word in enumerate(words):\n",
    "  plt.annotate(word, xy=(result[i,0], result[i,1]))\n",
    "plt.show()"
   ]
  },
  {
   "cell_type": "code",
   "execution_count": 38,
   "metadata": {
    "colab": {
     "base_uri": "https://localhost:8080/"
    },
    "executionInfo": {
     "elapsed": 12027,
     "status": "ok",
     "timestamp": 1710833451370,
     "user": {
      "displayName": "Ganeshkrishna B",
      "userId": "15710886125380977955"
     },
     "user_tz": -330
    },
    "id": "u9qHF5n6nUzI",
    "outputId": "445bedb2-e04c-4bc0-f82e-f3fdc1e6e729"
   },
   "outputs": [
    {
     "name": "stdout",
     "output_type": "stream",
     "text": [
      "Requirement already satisfied: gensim in /usr/local/lib/python3.10/dist-packages (4.3.2)\n",
      "Requirement already satisfied: numpy>=1.18.5 in /usr/local/lib/python3.10/dist-packages (from gensim) (1.25.2)\n",
      "Requirement already satisfied: scipy>=1.7.0 in /usr/local/lib/python3.10/dist-packages (from gensim) (1.11.4)\n",
      "Requirement already satisfied: smart-open>=1.8.1 in /usr/local/lib/python3.10/dist-packages (from gensim) (6.4.0)\n",
      "Requirement already satisfied: tqdm in /usr/local/lib/python3.10/dist-packages (4.66.2)\n"
     ]
    }
   ],
   "source": [
    "!pip install gensim\n",
    "!pip install tqdm"
   ]
  },
  {
   "cell_type": "code",
   "execution_count": 39,
   "metadata": {
    "executionInfo": {
     "elapsed": 5,
     "status": "ok",
     "timestamp": 1710833504131,
     "user": {
      "displayName": "Ganeshkrishna B",
      "userId": "15710886125380977955"
     },
     "user_tz": -330
    },
    "id": "xC3-_Y55nphq"
   },
   "outputs": [],
   "source": [
    "import gensim.downloader as api\n",
    "from gensim.models import Word2Vec\n",
    "from tqdm import tqdm"
   ]
  },
  {
   "cell_type": "code",
   "execution_count": 40,
   "metadata": {
    "colab": {
     "base_uri": "https://localhost:8080/"
    },
    "executionInfo": {
     "elapsed": 9099,
     "status": "ok",
     "timestamp": 1710833553823,
     "user": {
      "displayName": "Ganeshkrishna B",
      "userId": "15710886125380977955"
     },
     "user_tz": -330
    },
    "id": "V37X7tz4n5eL",
    "outputId": "17c7fb50-545e-44b9-80cb-4f218f9d4382"
   },
   "outputs": [
    {
     "name": "stdout",
     "output_type": "stream",
     "text": [
      "[==================================================] 100.0% 31.6/31.6MB downloaded\n"
     ]
    },
    {
     "name": "stderr",
     "output_type": "stream",
     "text": [
      "\r",
      "0it [00:00, ?it/s]"
     ]
    }
   ],
   "source": [
    "corpus=api.load('text8')\n",
    "corpus_with_progress=tqdm(corpus)"
   ]
  },
  {
   "cell_type": "code",
   "execution_count": 43,
   "metadata": {
    "executionInfo": {
     "elapsed": 366,
     "status": "ok",
     "timestamp": 1710833626902,
     "user": {
      "displayName": "Ganeshkrishna B",
      "userId": "15710886125380977955"
     },
     "user_tz": -330
    },
    "id": "h4h_nPrGoFJB"
   },
   "outputs": [],
   "source": [
    "vector_size=50\n",
    "window=3\n",
    "min_count=5\n",
    "epochs=3"
   ]
  },
  {
   "cell_type": "code",
   "execution_count": 44,
   "metadata": {
    "colab": {
     "base_uri": "https://localhost:8080/"
    },
    "executionInfo": {
     "elapsed": 73817,
     "status": "ok",
     "timestamp": 1710833888552,
     "user": {
      "displayName": "Ganeshkrishna B",
      "userId": "15710886125380977955"
     },
     "user_tz": -330
    },
    "id": "QTY4Wf9eoX2K",
    "outputId": "67c640cf-1f32-4016-ef30-e437a98ac8a9"
   },
   "outputs": [
    {
     "name": "stderr",
     "output_type": "stream",
     "text": [
      "1701it [04:30,  6.28it/s] \n"
     ]
    }
   ],
   "source": [
    "cbow_model=Word2Vec(corpus_with_progress, vector_size=50,window=3,min_count=5,workers=4,sg=0,epochs=3)"
   ]
  },
  {
   "cell_type": "code",
   "execution_count": 45,
   "metadata": {
    "executionInfo": {
     "elapsed": 189062,
     "status": "ok",
     "timestamp": 1710834161880,
     "user": {
      "displayName": "Ganeshkrishna B",
      "userId": "15710886125380977955"
     },
     "user_tz": -330
    },
    "id": "mLpjva6Epj2n"
   },
   "outputs": [],
   "source": [
    "skipgram_model=Word2Vec(corpus_with_progress, vector_size=50,window=3,min_count=5,workers=4,sg=1,epochs=3)"
   ]
  },
  {
   "cell_type": "code",
   "execution_count": 46,
   "metadata": {
    "colab": {
     "base_uri": "https://localhost:8080/"
    },
    "executionInfo": {
     "elapsed": 407,
     "status": "ok",
     "timestamp": 1710834267050,
     "user": {
      "displayName": "Ganeshkrishna B",
      "userId": "15710886125380977955"
     },
     "user_tz": -330
    },
    "id": "sBK1CjJ3qOQ8",
    "outputId": "d740367d-b4bf-43db-cba8-60af658696d4"
   },
   "outputs": [
    {
     "name": "stdout",
     "output_type": "stream",
     "text": [
      "Most similar to king in CBOW:\n",
      "[('prince', 0.8215615153312683), ('emperor', 0.8179366588592529), ('constantine', 0.8104957342147827)]\n",
      "Most similar to king in Skip gram:\n",
      "[('queen', 0.8536869287490845), ('consort', 0.841634213924408), ('prince', 0.8415598273277283)]\n",
      "\n",
      "\n",
      "Most similar to computer in CBOW:\n",
      "[('digital', 0.8165566325187683), ('software', 0.7918696999549866), ('computers', 0.7527157068252563)]\n",
      "Most similar to computer in Skip gram:\n",
      "[('programmable', 0.8201444745063782), ('laptop', 0.8111027479171753), ('computers', 0.8102041482925415)]\n",
      "\n",
      "\n",
      "Most similar to city in CBOW:\n",
      "[('town', 0.8879613280296326), ('area', 0.8100683689117432), ('village', 0.7832719683647156)]\n",
      "Most similar to city in Skip gram:\n",
      "[('town', 0.9170953631401062), ('auckland', 0.8375844359397888), ('metropolitan', 0.8328904509544373)]\n",
      "\n",
      "\n"
     ]
    }
   ],
   "source": [
    "words=['king','computer','city']\n",
    "for word in words:\n",
    "  print(f\"Most similar to {word} in CBOW:\")\n",
    "  print(cbow_model.wv.most_similar(word,topn=3))\n",
    "  print(f\"Most similar to {word} in Skip gram:\")\n",
    "  print(skipgram_model.wv.most_similar(word,topn=3))\n",
    "  print(\"\\n\")"
   ]
  }
 ],
 "metadata": {
  "colab": {
   "authorship_tag": "ABX9TyN0gH66i+ILCqTetwDROAOZ",
   "provenance": []
  },
  "kernelspec": {
   "display_name": "Python 3 (ipykernel)",
   "language": "python",
   "name": "python3"
  },
  "language_info": {
   "codemirror_mode": {
    "name": "ipython",
    "version": 3
   },
   "file_extension": ".py",
   "mimetype": "text/x-python",
   "name": "python",
   "nbconvert_exporter": "python",
   "pygments_lexer": "ipython3",
   "version": "3.10.9"
  }
 },
 "nbformat": 4,
 "nbformat_minor": 1
}
