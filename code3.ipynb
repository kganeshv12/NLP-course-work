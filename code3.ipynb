{
 "cells": [
  {
   "cell_type": "code",
   "execution_count": 24,
   "metadata": {
    "colab": {
     "base_uri": "https://localhost:8080/"
    },
    "executionInfo": {
     "elapsed": 619,
     "status": "ok",
     "timestamp": 1711440483791,
     "user": {
      "displayName": "Rajalakshmi V",
      "userId": "11681399990179727549"
     },
     "user_tz": -330
    },
    "id": "XYGc6ofYrdPf",
    "outputId": "3707627a-6b86-4338-91e4-3be83b649a44"
   },
   "outputs": [
    {
     "name": "stderr",
     "output_type": "stream",
     "text": [
      "[nltk_data] Downloading package stopwords to /root/nltk_data...\n",
      "[nltk_data]   Package stopwords is already up-to-date!\n",
      "[nltk_data] Downloading package punkt to /root/nltk_data...\n",
      "[nltk_data]   Package punkt is already up-to-date!\n",
      "[nltk_data] Downloading package averaged_perceptron_tagger to\n",
      "[nltk_data]     /root/nltk_data...\n",
      "[nltk_data]   Package averaged_perceptron_tagger is already up-to-\n",
      "[nltk_data]       date!\n"
     ]
    },
    {
     "data": {
      "text/plain": [
       "True"
      ]
     },
     "execution_count": 24,
     "metadata": {},
     "output_type": "execute_result"
    }
   ],
   "source": [
    "sentence = \"I am PES. I am studying in college present in Bengaluru. The name of the college \"\n",
    "import nltk\n",
    "nltk.download('stopwords')\n",
    "nltk.download('punkt')\n",
    "nltk.download('averaged_perceptron_tagger')"
   ]
  },
  {
   "cell_type": "code",
   "execution_count": 25,
   "metadata": {
    "executionInfo": {
     "elapsed": 7,
     "status": "ok",
     "timestamp": 1711440484401,
     "user": {
      "displayName": "Rajalakshmi V",
      "userId": "11681399990179727549"
     },
     "user_tz": -330
    },
    "id": "py7b7e6ssHfl"
   },
   "outputs": [],
   "source": [
    "from nltk.corpus import stopwords\n",
    "from nltk.tokenize import word_tokenize, sent_tokenize\n",
    "stop_words = set(stopwords.words('english'))\n"
   ]
  },
  {
   "cell_type": "code",
   "execution_count": 26,
   "metadata": {
    "executionInfo": {
     "elapsed": 6,
     "status": "ok",
     "timestamp": 1711440484401,
     "user": {
      "displayName": "Rajalakshmi V",
      "userId": "11681399990179727549"
     },
     "user_tz": -330
    },
    "id": "ZNp3rXTFsr7M"
   },
   "outputs": [],
   "source": [
    "tokenized = sent_tokenize(sentence)\n",
    "for i in tokenized:\n",
    "  wordsList = nltk.word_tokenize(i) #tokenize the words\n",
    "  wordsList = [w for w in wordsList if not w in stop_words]\n",
    "  tagged = nltk.pos_tag(wordsList)"
   ]
  },
  {
   "cell_type": "code",
   "execution_count": 27,
   "metadata": {
    "colab": {
     "base_uri": "https://localhost:8080/"
    },
    "executionInfo": {
     "elapsed": 6,
     "status": "ok",
     "timestamp": 1711440484401,
     "user": {
      "displayName": "Rajalakshmi V",
      "userId": "11681399990179727549"
     },
     "user_tz": -330
    },
    "id": "c4Sa5FLstyBz",
    "outputId": "58c01469-bc07-4662-9e5f-fbf04bf26fae"
   },
   "outputs": [
    {
     "name": "stdout",
     "output_type": "stream",
     "text": [
      "[('The', 'DT'), ('name', 'NN'), ('college', 'NN')]\n"
     ]
    }
   ],
   "source": [
    "print(tagged)"
   ]
  },
  {
   "cell_type": "code",
   "execution_count": 28,
   "metadata": {
    "executionInfo": {
     "elapsed": 3,
     "status": "ok",
     "timestamp": 1711440484401,
     "user": {
      "displayName": "Rajalakshmi V",
      "userId": "11681399990179727549"
     },
     "user_tz": -330
    },
    "id": "PEb6Pgozucb-"
   },
   "outputs": [],
   "source": [
    "## POS TAGGING USING SPACY"
   ]
  },
  {
   "cell_type": "code",
   "execution_count": 29,
   "metadata": {
    "executionInfo": {
     "elapsed": 454,
     "status": "ok",
     "timestamp": 1711440485443,
     "user": {
      "displayName": "Rajalakshmi V",
      "userId": "11681399990179727549"
     },
     "user_tz": -330
    },
    "id": "AyMfePfLt3zn"
   },
   "outputs": [],
   "source": [
    "import spacy\n",
    "nlp  = spacy.load(\"en_core_web_sm\")"
   ]
  },
  {
   "cell_type": "code",
   "execution_count": 30,
   "metadata": {
    "colab": {
     "base_uri": "https://localhost:8080/"
    },
    "executionInfo": {
     "elapsed": 4,
     "status": "ok",
     "timestamp": 1711440485444,
     "user": {
      "displayName": "Rajalakshmi V",
      "userId": "11681399990179727549"
     },
     "user_tz": -330
    },
    "id": "GKxVUoJwuOen",
    "outputId": "0ccaac69-06f8-447b-ad24-9e3dfefa28e6"
   },
   "outputs": [
    {
     "name": "stdout",
     "output_type": "stream",
     "text": [
      "I PRON\n",
      "am AUX\n",
      "PES PROPN\n",
      ". PUNCT\n",
      "I PRON\n",
      "am AUX\n",
      "studying VERB\n",
      "in ADP\n",
      "college NOUN\n",
      "present ADJ\n",
      "in ADP\n",
      "Bengaluru PROPN\n",
      ". PUNCT\n",
      "The DET\n",
      "name NOUN\n",
      "of ADP\n",
      "the DET\n",
      "college NOUN\n"
     ]
    }
   ],
   "source": [
    "text = nlp(sentence)\n",
    "for w in text :\n",
    "  print(w,w.pos_)"
   ]
  },
  {
   "cell_type": "code",
   "execution_count": 31,
   "metadata": {
    "colab": {
     "base_uri": "https://localhost:8080/"
    },
    "executionInfo": {
     "elapsed": 7388,
     "status": "ok",
     "timestamp": 1711440493388,
     "user": {
      "displayName": "Rajalakshmi V",
      "userId": "11681399990179727549"
     },
     "user_tz": -330
    },
    "id": "dxO3XW_KuUYX",
    "outputId": "c1012c66-29c8-4f94-ecc4-d009722969e9"
   },
   "outputs": [
    {
     "name": "stdout",
     "output_type": "stream",
     "text": [
      "Requirement already satisfied: textblob in /usr/local/lib/python3.10/dist-packages (0.17.1)\n",
      "Requirement already satisfied: nltk>=3.1 in /usr/local/lib/python3.10/dist-packages (from textblob) (3.8.1)\n",
      "Requirement already satisfied: click in /usr/local/lib/python3.10/dist-packages (from nltk>=3.1->textblob) (8.1.7)\n",
      "Requirement already satisfied: joblib in /usr/local/lib/python3.10/dist-packages (from nltk>=3.1->textblob) (1.3.2)\n",
      "Requirement already satisfied: regex>=2021.8.3 in /usr/local/lib/python3.10/dist-packages (from nltk>=3.1->textblob) (2023.12.25)\n",
      "Requirement already satisfied: tqdm in /usr/local/lib/python3.10/dist-packages (from nltk>=3.1->textblob) (4.66.2)\n"
     ]
    }
   ],
   "source": [
    "!pip install textblob\n",
    "from textblob import TextBlob\n",
    "sentenceTextBlob = TextBlob(sentence)"
   ]
  },
  {
   "cell_type": "code",
   "execution_count": 32,
   "metadata": {
    "colab": {
     "base_uri": "https://localhost:8080/"
    },
    "executionInfo": {
     "elapsed": 19,
     "status": "ok",
     "timestamp": 1711440493389,
     "user": {
      "displayName": "Rajalakshmi V",
      "userId": "11681399990179727549"
     },
     "user_tz": -330
    },
    "id": "VJ9sA8A2v1rs",
    "outputId": "ca64b1f9-ff22-41c4-fe3a-f27d6d822c97"
   },
   "outputs": [
    {
     "data": {
      "text/plain": [
       "[('I', 'PRP'),\n",
       " ('am', 'VBP'),\n",
       " ('PES', 'NNP'),\n",
       " ('I', 'PRP'),\n",
       " ('am', 'VBP'),\n",
       " ('studying', 'VBG'),\n",
       " ('in', 'IN'),\n",
       " ('college', 'NN'),\n",
       " ('present', 'NN'),\n",
       " ('in', 'IN'),\n",
       " ('Bengaluru', 'NNP'),\n",
       " ('The', 'DT'),\n",
       " ('name', 'NN'),\n",
       " ('of', 'IN'),\n",
       " ('the', 'DT'),\n",
       " ('college', 'NN')]"
      ]
     },
     "execution_count": 32,
     "metadata": {},
     "output_type": "execute_result"
    }
   ],
   "source": [
    "sentenceTextBlob.tags"
   ]
  },
  {
   "cell_type": "code",
   "execution_count": 33,
   "metadata": {
    "colab": {
     "base_uri": "https://localhost:8080/"
    },
    "executionInfo": {
     "elapsed": 16,
     "status": "ok",
     "timestamp": 1711440493389,
     "user": {
      "displayName": "Rajalakshmi V",
      "userId": "11681399990179727549"
     },
     "user_tz": -330
    },
    "id": "bV--aYFXwKjV",
    "outputId": "16894ac0-ca17-41e3-dd54-2e6d070071b8"
   },
   "outputs": [
    {
     "name": "stderr",
     "output_type": "stream",
     "text": [
      "[nltk_data] Downloading package maxent_ne_chunker to\n",
      "[nltk_data]     /root/nltk_data...\n",
      "[nltk_data]   Package maxent_ne_chunker is already up-to-date!\n",
      "[nltk_data] Downloading package words to /root/nltk_data...\n",
      "[nltk_data]   Package words is already up-to-date!\n"
     ]
    },
    {
     "data": {
      "text/plain": [
       "True"
      ]
     },
     "execution_count": 33,
     "metadata": {},
     "output_type": "execute_result"
    }
   ],
   "source": [
    "import nltk\n",
    "nltk.download('maxent_ne_chunker')\n",
    "nltk.download('words')"
   ]
  },
  {
   "cell_type": "code",
   "execution_count": 34,
   "metadata": {
    "executionInfo": {
     "elapsed": 13,
     "status": "ok",
     "timestamp": 1711440493389,
     "user": {
      "displayName": "Rajalakshmi V",
      "userId": "11681399990179727549"
     },
     "user_tz": -330
    },
    "id": "Q3JHY9lFw72b"
   },
   "outputs": [],
   "source": [
    "from nltk import word_tokenize, pos_tag, ne_chunk"
   ]
  },
  {
   "cell_type": "code",
   "execution_count": 35,
   "metadata": {
    "colab": {
     "base_uri": "https://localhost:8080/"
    },
    "executionInfo": {
     "elapsed": 13,
     "status": "ok",
     "timestamp": 1711440493389,
     "user": {
      "displayName": "Rajalakshmi V",
      "userId": "11681399990179727549"
     },
     "user_tz": -330
    },
    "id": "PKYmQ8ewxA6C",
    "outputId": "d8b3258d-060e-44dd-c5d6-4a7d6af89004"
   },
   "outputs": [
    {
     "name": "stdout",
     "output_type": "stream",
     "text": [
      "PES - (ORGANIZATION PES/NNP)\n",
      "Bengaluru - (GPE Bengaluru/NNP)\n"
     ]
    }
   ],
   "source": [
    "token = word_tokenize(sentence)\n",
    "tagged_tokens = pos_tag(token)\n",
    "named_entities = ne_chunk(tagged_tokens)\n",
    "for entity in named_entities:\n",
    "  if hasattr(entity, 'label'):\n",
    "    print(' '.join(child[0] for child in entity), '-', entity)\n"
   ]
  },
  {
   "cell_type": "code",
   "execution_count": 36,
   "metadata": {
    "colab": {
     "base_uri": "https://localhost:8080/"
    },
    "executionInfo": {
     "elapsed": 9,
     "status": "ok",
     "timestamp": 1711440493389,
     "user": {
      "displayName": "Rajalakshmi V",
      "userId": "11681399990179727549"
     },
     "user_tz": -330
    },
    "id": "ingNGpr_x30k",
    "outputId": "535a7172-7b22-417e-fd8c-cf0a1226e24f"
   },
   "outputs": [
    {
     "name": "stdout",
     "output_type": "stream",
     "text": [
      "PES 5 8 ORG\n",
      "Bengaluru 46 55 GPE\n"
     ]
    }
   ],
   "source": [
    "# ner using spacy\n",
    "\n",
    "doc = nlp(sentence)\n",
    "for ent in doc.ents:\n",
    "  print(ent.text, ent.start_char, ent.end_char, ent.label_)"
   ]
  },
  {
   "cell_type": "code",
   "execution_count": 23,
   "metadata": {
    "executionInfo": {
     "elapsed": 632,
     "status": "ok",
     "timestamp": 1711440474456,
     "user": {
      "displayName": "Rajalakshmi V",
      "userId": "11681399990179727549"
     },
     "user_tz": -330
    },
    "id": "83IPkhpDzIzY"
   },
   "outputs": [],
   "source": [
    "# apply textblob for the goven sentence and do ner\n"
   ]
  },
  {
   "cell_type": "code",
   "execution_count": null,
   "metadata": {
    "id": "lbeEI-NgzMPL"
   },
   "outputs": [],
   "source": []
  }
 ],
 "metadata": {
  "colab": {
   "authorship_tag": "ABX9TyMSMqFTa+nIqOqWwpPSPyZA",
   "provenance": []
  },
  "kernelspec": {
   "display_name": "Python 3 (ipykernel)",
   "language": "python",
   "name": "python3"
  },
  "language_info": {
   "codemirror_mode": {
    "name": "ipython",
    "version": 3
   },
   "file_extension": ".py",
   "mimetype": "text/x-python",
   "name": "python",
   "nbconvert_exporter": "python",
   "pygments_lexer": "ipython3",
   "version": "3.10.9"
  }
 },
 "nbformat": 4,
 "nbformat_minor": 1
}
