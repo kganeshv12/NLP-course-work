{
 "cells": [
  {
   "cell_type": "code",
   "execution_count": 1,
   "metadata": {
    "executionInfo": {
     "elapsed": 3160,
     "status": "ok",
     "timestamp": 1712045162437,
     "user": {
      "displayName": "Rajalakshmi V",
      "userId": "11681399990179727549"
     },
     "user_tz": -330
    },
    "id": "yLFo2Llo1zb8"
   },
   "outputs": [],
   "source": [
    "import numpy as np\n",
    "import matplotlib.pyplot as plt\n",
    "import seaborn as sns"
   ]
  },
  {
   "cell_type": "code",
   "execution_count": 2,
   "metadata": {
    "colab": {
     "base_uri": "https://localhost:8080/"
    },
    "executionInfo": {
     "elapsed": 18323,
     "status": "ok",
     "timestamp": 1712045182517,
     "user": {
      "displayName": "Rajalakshmi V",
      "userId": "11681399990179727549"
     },
     "user_tz": -330
    },
    "id": "WHdWbkrr19AK",
    "outputId": "02197a4f-5844-4b14-b81d-deec5a66d0e2"
   },
   "outputs": [
    {
     "name": "stdout",
     "output_type": "stream",
     "text": [
      "\u001b[?25l     \u001b[90m━━━━━━━━━━━━━━━━━━━━━━━━━━━━━━━━━━━━━━━━\u001b[0m \u001b[32m0.0/161.1 kB\u001b[0m \u001b[31m?\u001b[0m eta \u001b[36m-:--:--\u001b[0m\r",
      "\u001b[2K     \u001b[91m━━━━━━━━━━\u001b[0m\u001b[90m╺\u001b[0m\u001b[90m━━━━━━━━━━━━━━━━━━━━━━━━━━━━━\u001b[0m \u001b[32m41.0/161.1 kB\u001b[0m \u001b[31m1.0 MB/s\u001b[0m eta \u001b[36m0:00:01\u001b[0m\r",
      "\u001b[2K     \u001b[90m━━━━━━━━━━━━━━━━━━━━━━━━━━━━━━━━━━━━━━━━\u001b[0m \u001b[32m161.1/161.1 kB\u001b[0m \u001b[31m1.7 MB/s\u001b[0m eta \u001b[36m0:00:00\u001b[0m\n",
      "\u001b[?25h"
     ]
    }
   ],
   "source": [
    "!pip install hmmlearn -q"
   ]
  },
  {
   "cell_type": "code",
   "execution_count": 4,
   "metadata": {
    "colab": {
     "base_uri": "https://localhost:8080/"
    },
    "executionInfo": {
     "elapsed": 5,
     "status": "ok",
     "timestamp": 1712045376918,
     "user": {
      "displayName": "Rajalakshmi V",
      "userId": "11681399990179727549"
     },
     "user_tz": -330
    },
    "id": "UcM3Cs5O2Hzr",
    "outputId": "b1be8e93-8e54-424c-ac93-5d90e2e0f3d0"
   },
   "outputs": [
    {
     "name": "stdout",
     "output_type": "stream",
     "text": [
      "Numner of hidden states : 2\n"
     ]
    }
   ],
   "source": [
    "# Define the  state space\n",
    "states = [\"Sunny\", \"Rainy\"]\n",
    "n_states = len(states)\n",
    "print('Numner of hidden states :', n_states)\n",
    "\n",
    "observations = [\"Dry\", \"Wet\"]"
   ]
  },
  {
   "cell_type": "code",
   "execution_count": 5,
   "metadata": {
    "executionInfo": {
     "elapsed": 4,
     "status": "ok",
     "timestamp": 1712045377390,
     "user": {
      "displayName": "Rajalakshmi V",
      "userId": "11681399990179727549"
     },
     "user_tz": -330
    },
    "id": "LAEGp7ei2AHj"
   },
   "outputs": [],
   "source": [
    "# define initial state distribution\n",
    "\n",
    "state_probability = np.array([0.6, 0.4])\n",
    "# s,r is the above format\n",
    "\n",
    "transition_probability = np.array([[0.7,0.3],[0.3,0.7]])\n",
    "\n",
    "emission_probability = np.array([[0.9,0.1],[0.2,0.8]])\n",
    "\n",
    "\n"
   ]
  },
  {
   "cell_type": "code",
   "execution_count": 1,
   "metadata": {
    "colab": {
     "base_uri": "https://localhost:8080/",
     "height": 211
    },
    "executionInfo": {
     "elapsed": 14,
     "status": "error",
     "timestamp": 1712045578367,
     "user": {
      "displayName": "Rajalakshmi V",
      "userId": "11681399990179727549"
     },
     "user_tz": -330
    },
    "id": "NujXVQ162y_0",
    "outputId": "86887d1f-980b-4eed-92bc-099dba69f2cc"
   },
   "outputs": [],
   "source": [
    "import hmmlearn as hmm\n",
    "model = hmm.CategoricalHMM(n_components = n_states)\n",
    "model.startprob = state_probability\n",
    "model.transmat_ = transition_probability\n",
    "model.emissionprob_ = emission_probability\n"
   ]
  },
  {
   "cell_type": "code",
   "execution_count": null,
   "metadata": {
    "id": "3kvVeK953lJC"
   },
   "outputs": [],
   "source": []
  }
 ],
 "metadata": {
  "colab": {
   "authorship_tag": "ABX9TyPfGyRyb5a7R9KX4I+PTJFb",
   "provenance": []
  },
  "kernelspec": {
   "display_name": "Python 3 (ipykernel)",
   "language": "python",
   "name": "python3"
  },
  "language_info": {
   "codemirror_mode": {
    "name": "ipython",
    "version": 3
   },
   "file_extension": ".py",
   "mimetype": "text/x-python",
   "name": "python",
   "nbconvert_exporter": "python",
   "pygments_lexer": "ipython3",
   "version": "3.10.9"
  }
 },
 "nbformat": 4,
 "nbformat_minor": 1
}
