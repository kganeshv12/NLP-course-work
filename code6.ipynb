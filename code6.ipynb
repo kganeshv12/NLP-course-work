{
 "cells": [
  {
   "cell_type": "code",
   "execution_count": null,
   "metadata": {
    "colab": {
     "base_uri": "https://localhost:8080/"
    },
    "id": "txh-L2x5d9HW",
    "outputId": "b16a037f-52f6-4420-c6ac-7b84b78a7507"
   },
   "outputs": [
    {
     "name": "stderr",
     "output_type": "stream",
     "text": [
      "[nltk_data] Downloading package wordnet to /root/nltk_data...\n"
     ]
    },
    {
     "data": {
      "text/plain": [
       "True"
      ]
     },
     "execution_count": 1,
     "metadata": {},
     "output_type": "execute_result"
    }
   ],
   "source": [
    "import nltk\n",
    "nltk.download('wordnet')"
   ]
  },
  {
   "cell_type": "code",
   "execution_count": null,
   "metadata": {
    "id": "73y8FtU-eIAQ"
   },
   "outputs": [],
   "source": [
    "from nltk.corpus import wordnet"
   ]
  },
  {
   "cell_type": "code",
   "execution_count": null,
   "metadata": {
    "colab": {
     "base_uri": "https://localhost:8080/"
    },
    "id": "0Mre5VUCepjg",
    "outputId": "72679cdc-bd89-47a8-a282-0ef5d4a2c70f"
   },
   "outputs": [
    {
     "name": "stdout",
     "output_type": "stream",
     "text": [
      "Synonyms of bank: bank_building, swear, depository_financial_institution, coin_bank, savings_bank, trust, rely, money_box, cant, banking_concern, deposit, banking_company, camber, bank\n",
      "Antonyms of bank: withdraw, mistrust\n",
      "\n"
     ]
    }
   ],
   "source": [
    "def explore_syn_ant_word(word):\n",
    "  synonyms=set()\n",
    "  antonyms=set()\n",
    "  for syn in wordnet.synsets(word):\n",
    "    for l in syn.lemmas():\n",
    "      synonyms.add(l.name() )\n",
    "      if l.antonyms():\n",
    "        antonyms.add(l.antonyms()[0].name())\n",
    "\n",
    "  print(f\"Synonyms of {word}: {', '.join(synonyms)}\")\n",
    "\n",
    "  print(f\"Antonyms of {word}: {', '.join(antonyms)}\\n\")\n",
    "\n",
    "explore_syn_ant_word(\"bank\")"
   ]
  },
  {
   "cell_type": "code",
   "execution_count": null,
   "metadata": {
    "colab": {
     "base_uri": "https://localhost:8080/"
    },
    "id": "6kL4h7bSfH58",
    "outputId": "21bdc61c-e2b4-45fa-ff49-e286199e0e2e"
   },
   "outputs": [
    {
     "name": "stdout",
     "output_type": "stream",
     "text": [
      "Different senses of bank:\n",
      "-bank.n.01:sloping land (especially the slope beside a body of water)\n",
      "-depository_financial_institution.n.01:a financial institution that accepts deposits and channels the money into lending activities\n",
      "-bank.n.03:a long ridge or pile\n",
      "-bank.n.04:an arrangement of similar objects in a row or in tiers\n",
      "-bank.n.05:a supply or stock held in reserve for future use (especially in emergencies)\n",
      "-bank.n.06:the funds held by a gambling house or the dealer in some gambling games\n",
      "-bank.n.07:a slope in the turn of a road or track; the outside is higher than the inside in order to reduce the effects of centrifugal force\n",
      "-savings_bank.n.02:a container (usually with a slot in the top) for keeping money at home\n",
      "-bank.n.09:a building in which the business of banking transacted\n",
      "-bank.n.10:a flight maneuver; aircraft tips laterally about its longitudinal axis (especially in turning)\n",
      "-bank.v.01:tip laterally\n",
      "-bank.v.02:enclose with a bank\n",
      "-bank.v.03:do business with a bank or keep an account at a bank\n",
      "-bank.v.04:act as the banker in a game or in gambling\n",
      "-bank.v.05:be in the banking business\n",
      "-deposit.v.02:put into a bank account\n",
      "-bank.v.07:cover with ashes so to control the rate of burning\n",
      "-trust.v.01:have confidence or faith in\n"
     ]
    }
   ],
   "source": [
    "def explore_sense_word(word):\n",
    "  synsets=wordnet.synsets(word)\n",
    "  print(f\"Different senses of {word}:\")\n",
    "  for synset in synsets:\n",
    "    print(f\"-{synset.name()}:{synset.definition()}\")\n",
    "\n",
    "explore_sense_word(\"bank\")"
   ]
  },
  {
   "cell_type": "code",
   "execution_count": null,
   "metadata": {
    "id": "VKml5o4Zgqqd"
   },
   "outputs": [],
   "source": [
    "#hyponym explore"
   ]
  },
  {
   "cell_type": "code",
   "execution_count": null,
   "metadata": {
    "colab": {
     "base_uri": "https://localhost:8080/"
    },
    "id": "S9LG2GeWg59r",
    "outputId": "a108e7fc-d64d-4877-aeb1-0e30625386fe"
   },
   "outputs": [
    {
     "name": "stderr",
     "output_type": "stream",
     "text": [
      "[nltk_data] Downloading package punkt to /root/nltk_data...\n",
      "[nltk_data]   Unzipping tokenizers/punkt.zip.\n"
     ]
    },
    {
     "data": {
      "text/plain": [
       "True"
      ]
     },
     "execution_count": 16,
     "metadata": {},
     "output_type": "execute_result"
    }
   ],
   "source": [
    "nltk.download('punkt')"
   ]
  },
  {
   "cell_type": "code",
   "execution_count": null,
   "metadata": {
    "id": "oIO1QWLpg_ye"
   },
   "outputs": [],
   "source": [
    "from nltk.wsd import lesk\n",
    "from nltk.tokenize import word_tokenize"
   ]
  },
  {
   "cell_type": "code",
   "execution_count": null,
   "metadata": {
    "colab": {
     "base_uri": "https://localhost:8080/"
    },
    "id": "cgPakmJOhJwC",
    "outputId": "1783cfa6-c273-4b3f-cead-46251a96cb2f"
   },
   "outputs": [
    {
     "name": "stdout",
     "output_type": "stream",
     "text": [
      "['I', 'went', 'to', 'the', 'bank', 'to', 'deposit', 'some', 'money']\n"
     ]
    }
   ],
   "source": [
    "sentence=\"I went to the bank to deposit some money\"\n",
    "tokens=word_tokenize(sentence)\n",
    "print(tokens)"
   ]
  },
  {
   "cell_type": "code",
   "execution_count": null,
   "metadata": {
    "colab": {
     "base_uri": "https://localhost:8080/"
    },
    "id": "1KXc6bc3hTg9",
    "outputId": "fd4f949a-e533-44cc-b796-9b843f333a1b"
   },
   "outputs": [
    {
     "name": "stdout",
     "output_type": "stream",
     "text": [
      "Selected sense:  savings_bank.n.02\n",
      "Definition : a container (usually with a slot in the top) for keeping money at home\n"
     ]
    }
   ],
   "source": [
    "ambiguous_word=\"bank\"\n",
    "sense=lesk(tokens,ambiguous_word)\n",
    "\n",
    "print(f\"Selected sense:  {sense.name()}\")\n",
    "\n",
    "print(f\"Definition : {sense.definition()}\")\n"
   ]
  },
  {
   "cell_type": "code",
   "execution_count": null,
   "metadata": {
    "id": "o3514QQmh3SN"
   },
   "outputs": [],
   "source": []
  }
 ],
 "metadata": {
  "colab": {
   "provenance": []
  },
  "kernelspec": {
   "display_name": "Python 3 (ipykernel)",
   "language": "python",
   "name": "python3"
  },
  "language_info": {
   "codemirror_mode": {
    "name": "ipython",
    "version": 3
   },
   "file_extension": ".py",
   "mimetype": "text/x-python",
   "name": "python",
   "nbconvert_exporter": "python",
   "pygments_lexer": "ipython3",
   "version": "3.10.9"
  }
 },
 "nbformat": 4,
 "nbformat_minor": 1
}
